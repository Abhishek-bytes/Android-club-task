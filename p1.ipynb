# Import necessary libraries
import pandas as pd
import numpy as np
import matplotlib.pyplot as plt
import seaborn as sns
from sklearn.preprocessing import StandardScaler
from sklearn.impute import SimpleImputer
from sklearn.cluster import KMeans
from sklearn.decomposition import PCA
import streamlit as st

# ### Step 1: Load the Data ###
# Load dataset
file_path = 'marketing_campaign.csv'  # Update with the correct file path
data = pd.read_csv(file_path, sep='\t')

# Inspect data
print(data.head())
print(data.info())
print(data.describe())

# ### Step 2: Data Exploration ###
# Check for missing values
missing_values = data.isnull().sum()
print("Missing Values:\n", missing_values)

# Correlation analysis for numerical features
numerical_cols = data.select_dtypes(include=['float64', 'int64']).columns
correlation_matrix = data[numerical_cols].corr()

# Visualize correlation heatmap
plt.figure(figsize=(10, 8))
sns.heatmap(correlation_matrix, annot=True, fmt='.2f', cmap='coolwarm')
plt.title("Correlation Heatmap")
plt.show()

# ### Step 3: Data Preprocessing ###
# Handle missing values
imputer = SimpleImputer(strategy='median')
data[numerical_cols] = imputer.fit_transform(data[numerical_cols])

# Encode categorical variables
categorical_cols = data.select_dtypes(include=['object']).columns
data = pd.get_dummies(data, columns=categorical_cols, drop_first=True)

# Standardize the numerical data
scaler = StandardScaler()
scaled_data = scaler.fit_transform(data)

# ### Step 4: Clustering ###
# Apply KMeans clustering
kmeans = KMeans(n_clusters=4, random_state=42)
clusters = kmeans.fit_predict(scaled_data)
data['Cluster'] = clusters

# Visualize the number of customers per cluster
plt.figure(figsize=(8, 5))
sns.countplot(x=data['Cluster'])
plt.title("Number of Customers per Cluster")
plt.xlabel("Cluster")
plt.ylabel("Count")
plt.show()

# ### Step 5: PCA for Visualization ###
pca = PCA(n_components=2)
pca_data = pca.fit_transform(scaled_data)

plt.figure(figsize=(10, 6))
plt.scatter(pca_data[:, 0], pca_data[:, 1], c=clusters, cmap='viridis')
plt.title("PCA Visualization of Clusters")
plt.xlabel("Principal Component 1")
plt.ylabel("Principal Component 2")
plt.colorbar(label='Cluster')
plt.show()

# ### Step 6: Analyze Clusters ###
cluster_analysis = data.groupby('Cluster').mean()
print("Cluster Analysis:\n", cluster_analysis)

# ### Step 7: Streamlit Dashboard ###
# Streamlit interactive dashboard (Bonus)
st.title("Customer Segmentation Dashboard")
st.write("### Clustered Data Sample")
st.dataframe(data.head(10))

st.write("### Cluster Analysis")
st.dataframe(cluster_analysis)

st.write("### PCA Visualization")
fig, ax = plt.subplots(figsize=(10, 6))
ax.scatter(pca_data[:, 0], pca_data[:, 1], c=clusters, cmap='viridis')
ax.set_title("PCA Visualization of Clusters")
ax.set_xlabel("Principal Component 1")
ax.set_ylabel("Principal Component 2")
st.pyplot(fig)
